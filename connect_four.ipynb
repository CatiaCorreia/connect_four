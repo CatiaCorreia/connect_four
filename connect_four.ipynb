{
 "cells": [
  {
   "cell_type": "markdown",
   "metadata": {},
   "source": [
    "## Connect four"
   ]
  },
  {
   "cell_type": "markdown",
   "metadata": {},
   "source": [
    "olá"
   ]
  }
 ],
 "metadata": {
  "language_info": {
   "name": "python"
  }
 },
 "nbformat": 4,
 "nbformat_minor": 2
}
